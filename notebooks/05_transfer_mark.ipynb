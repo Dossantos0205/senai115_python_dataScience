{
 "cells": [
  {
   "cell_type": "code",
   "execution_count": 35,
   "id": "85d5ea5f-300a-440f-b13c-4b4ee65f890e",
   "metadata": {},
   "outputs": [],
   "source": [
    "#importar as bibliotecas\n",
    "from selenium import webdriver #manipular dados na web\n",
    "from selenium.webdriver.common.by import By"
   ]
  },
  {
   "cell_type": "code",
   "execution_count": 43,
   "id": "e54f7c7d-e47f-4e77-b2b6-8c15ddd073cb",
   "metadata": {},
   "outputs": [
    {
     "data": {
      "text/plain": [
       "'3\\nBayern\\nBundesliga\\nAllianz Arena\\n75.024 2 Primeira Divisão 1 75.024 1 75.024'"
      ]
     },
     "metadata": {},
     "output_type": "display_data"
    },
    {
     "name": "stdout",
     "output_type": "stream",
     "text": [
      "['3', 'Bayern', 'Bundesliga', 'Allianz Arena', '75.024 2 Primeira Divisão 1 75.024 1 75.024']\n",
      "['3', 'Bayern', 'Bundesliga', 'Allianz Arena', '75.024 2 Primeira Divisão 1 75.024 1 75.024', '75.024', '2', 'Primeira', 'Divisão', '1', '75.024', '1', '75.024']\n",
      "['3', 'Bayern', 'Bundesliga', 'Allianz Arena', '75.024', '2', 'Primeira', 'Divisão', '1', '75.024', '1', '75.024']\n"
     ]
    }
   ],
   "source": [
    "driver = webdriver.Chrome() #quando digitar o ponto após o webdriver, é só clicar no tab que aparecem opções.\n",
    "#no caso acima, foi \"chamado\" a classe do Chrome\n",
    "\n",
    "driver.implicitly_wait(2)\n",
    "\n",
    "driver.get('https://www.transfermarkt.com.br/verein-statistik/zuschauerrangliste/statistik?wettbewerb=liga&sortierung=best&selectedOptionKey=0&plus=1')\n",
    "\n",
    "#dados_tabela = driver.find_elements(By.TAG_NAME, 'td')\n",
    "\n",
    "#print(dados_tabela[0].text)\n",
    "linhas_impares = driver.find_elements(By.CLASS_NAME, 'odd')\n",
    "display(linhas_impares[1].text)\n",
    "dados = linhas_impares[1].text.split('\\n')\n",
    "print(dados)\n",
    "dados += dados[4].split()\n",
    "print (dados)\n",
    "dados.pop(4)\n",
    "print (dados)\n",
    "#print(linhas_impares[0].text.split())"
   ]
  },
  {
   "cell_type": "code",
   "execution_count": null,
   "id": "43cb5996-4f3e-47e5-8064-aceba800c82e",
   "metadata": {},
   "outputs": [],
   "source": []
  }
 ],
 "metadata": {
  "kernelspec": {
   "display_name": "Python 3 (ipykernel)",
   "language": "python",
   "name": "python3"
  },
  "language_info": {
   "codemirror_mode": {
    "name": "ipython",
    "version": 3
   },
   "file_extension": ".py",
   "mimetype": "text/x-python",
   "name": "python",
   "nbconvert_exporter": "python",
   "pygments_lexer": "ipython3",
   "version": "3.12.4"
  }
 },
 "nbformat": 4,
 "nbformat_minor": 5
}
